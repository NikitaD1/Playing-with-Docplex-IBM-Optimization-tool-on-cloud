{
    "nbformat_minor": 1, 
    "cells": [
        {
            "source": "# Tutorial: Beyond Linear Programming, (CPLEX Part2)\n\nThis notebook describes some special cases of LP, as well as some other non-LP techniques, and also under which conditions they should be used. \n\nBefore continuing, you should ensure you followed the CPLEX Tutorial Part 1.\n\nAfter completing this unit, you should be able to describe what a network model is, and the benefits of using network models, explain the concepts of nonlinearity and convexity, describe what a piecewise linear function is, and describe the differences between Linear Programming (LP), Integer Programming (IP), Mixed-Integer Programming (MIP),  and Quadratic Programming (QP).  You should also be able to construct a simple MIP model. \n\n\n>This notebook is part of [Prescriptive Analytics for Python](https://rawgit.com/IBMDecisionOptimization/docplex-doc/master/docs/index.html).\n\n>It requires a valid subscription to **Decision Optimization on Cloud** or a **local installation of CPLEX Optimizers**. \n\nDiscover us [here](https://developer.ibm.com/docloud).\n\nTable of contents:\n\n* [CPLEX Modeling for Python](#Use-IBM-Decision-Optimization-CPLEX-Modeling-for-Python)\n* [Network models](#Network-models)\n* [Non-linearity and Convexity](#Non-linearity-and-Convexity)\n* [Integer Optimization](#Integer-Optimization)\n* [Quadratic Programming](#Quadratic-Programming)\n\nWe will use DOcplex to write small samples to illustrate the topics", 
            "cell_type": "markdown", 
            "metadata": {}
        }, 
        {
            "source": "## Use IBM Decision Optimization CPLEX Modeling for Python\n\nLet's use the [DOcplex](https://cdn.rawgit.com/IBMDecisionOptimization/docplex-doc/2.0.15/docs/index.html) Python library to write sample models in Python.", 
            "cell_type": "markdown", 
            "metadata": {}
        }, 
        {
            "source": "### Step 1: Download the library\n\nFirst install *docplex* if needed.", 
            "cell_type": "markdown", 
            "metadata": {}
        }, 
        {
            "execution_count": 34, 
            "cell_type": "code", 
            "metadata": {}, 
            "outputs": [], 
            "source": "import sys\ntry:\n    import docplex.mp\nexcept:\n    if hasattr(sys, 'real_prefix'):\n        #we are in a virtual env.\n        !pip install docplex\n    else:\n        !pip install --user docplex"
        }, 
        {
            "source": "Step 2: Set up the prescriptive engine\n\n    Subscribe to our private cloud offer or Decision Optimization on Cloud solve service here if you do not want to use a local solver.\n    Get the service URL and your personal API key and enter your credentials here if accurate:", 
            "cell_type": "markdown", 
            "metadata": {}
        }, 
        {
            "execution_count": 35, 
            "cell_type": "code", 
            "metadata": {}, 
            "outputs": [], 
            "source": "url = \"https://api-oaas.docloud.ibmcloud.com/job_manager/rest/v1/\"\nkey = \"api_44f5ba41-b02b-479a-bec2-3ccb0ee6927a\""
        }, 
        {
            "source": "# Network models\n\nIn this topic, you\u2019ll learn what a network model is, and how its structure can be exploited for more efficient solutions.", 
            "cell_type": "markdown", 
            "metadata": {}
        }, 
        {
            "source": "## Networks in real life\n\nSeveral problems encountered in Operations Research (OR) involve networks, such as:\nDistribution problems (for example, transportation networks)\nAssignment problems (for example, networks of workers and jobs they could be assigned to)\nPlanning problems (for example, critical path analysis for project planning)\n\nMany network models are special LP problems for which specialized solution algorithms exist. \n\nIt is important to know whether a problem can be formulated as a network model to exploit the special structure.\n\nThis topic introduces networks in general, as well as some well-known instances of network models.\n\n## Network modeling concepts\n\nAny network structure can be described using two types of objects:\n\n- Nodes: Defined points in the network, for example warehouses.\n- Arcs: An arc connects two nodes, for example a road connecting two warehouses. \n\nAn arc can be _directed_, which means than an arc $a_{ij}$ from node $i$ to node $j$ is different from arc $a_ji$ that begins at node $j$ and ends at node $i$.\n\n<p>\n<ul>\n<img src = \"https://ibmdecisionoptimization.github.io/tutorials/jupyter/training/1_5.png?raw=true\" >\n</ul> \n\n A sequence of arcs connecting two nodes is called a chain. Each arc in a chain shares exactly one node with the preceding arc.\n\n When all the arcs in a chain are directed such that it is possible to traverse the chain in the directions of the arcs from the start node to the end node, it is called a path.\n\n<p>\n<ul>\n<img src = \"https://ibmdecisionoptimization.github.io/tutorials/jupyter/training/1_6.png?raw=true\" >\n</ul> \n\n## Different types of network problems\n\nThe following are some well-known types of network problems:\n- Transportation problem\n- Transshipment problem\n- Assignment problem\n- Shortest path problem\n- Critical path analysis\n\nNext, you'll learn how to recognize each of these, and how their special structure can be exploited.", 
            "cell_type": "markdown", 
            "metadata": {}
        }, 
        {
            "source": "### The Transportation Problem\n\nOne of the most common real-world network problems is the transportation problem.  This type of problem involves a set of supply nodes and a set of demand nodes.  The objective is to minimize the transportation cost from the supply nodes to the demand nodes, so as to satisfy the demand, and without exceeding the suppliers\u2019 capacities.  \n\nSuch a problem can be depicted in a graph, with supply nodes, demand nodes, and connecting arcs.  The supply capacity is indicated with the supply nodes, while the demand is indicated with the demand nodes, and the transportation costs are indicated on the arcs.  \n\n<p>\n<ul>\n<img src = \"https://ibmdecisionoptimization.github.io/tutorials/jupyter/training/1_8.png?raw=true\" >\n</ul> \n\nThe LP formulation involves one type of variable, namely x(i,j) representing the quantity transported from supply node i to demand node j.  The objective is to minimize the total transportation cost across all arcs.  The constraints are flow conservation constraints.  The first two constraints state that the outflow from each supply node should be less than or equal to the supply capacity.  The next three constraints state that the inflow into each demand node should equal the demand at that node.   The domain for the shipments on the allowable arcs is set to be greater than or equal to zero, while the shipment quantities on the disallowed arcs are set to zero.  \n\nEven though arcs (1,4) and (2,3) do not exist in the graph, the variables are included in the slide to show the special structure of the transportation problem.  If you were to formulate such a model in practice, you\u2019d simply exclude these variables. ", 
            "cell_type": "markdown", 
            "metadata": {}
        }, 
        {
            "source": "#### Formulating a simple transportation problem with DOcplex\n\nIn the next section, we formulate the problem described above using DOcplex.", 
            "cell_type": "markdown", 
            "metadata": {}
        }, 
        {
            "source": "#### What data for the transpotation problem?\n\nInput ndoes are integers ranging in {1, 2}; output nodes are integers ranging from 3 to 5.\n\nThe data consists in three Python dictionaries:\n\n- one dictionary gives capacity values for all input nodes\n- one dictionary contains demands for all target nodes\n- one last dictionary holds cost values for some (source, target) pair of nodes.", 
            "cell_type": "markdown", 
            "metadata": {}
        }, 
        {
            "execution_count": 36, 
            "cell_type": "code", 
            "metadata": {}, 
            "outputs": [], 
            "source": "capacities = {1: 15, 2: 20}\ndemands = {3: 7, 4: 10, 5: 15}\ncosts = {(1,3): 2, (1,5):4, (2,4):5, (2,5):3}\n\n# Python ranges will be used to iterate on source, target nodes.\nsource = range(1, 3) # {1, 2}\ntarget = range(3, 6) # {3,4,5}"
        }, 
        {
            "source": "#### Create a model instance", 
            "cell_type": "markdown", 
            "metadata": {}
        }, 
        {
            "execution_count": 37, 
            "cell_type": "code", 
            "metadata": {}, 
            "outputs": [], 
            "source": "from docplex.mp.model import Model\n\ntm = Model(name='transportation')"
        }, 
        {
            "source": "#### Define the decision variables\n- The continuous variable `desk` represents the production of desk telephones.\n- The continuous variable `cell` represents the production of cell phones.", 
            "cell_type": "markdown", 
            "metadata": {}
        }, 
        {
            "execution_count": 38, 
            "cell_type": "code", 
            "metadata": {}, 
            "outputs": [
                {
                    "output_type": "stream", 
                    "name": "stdout", 
                    "text": "Model: transportation\n - number of variables: 6\n   - binary=0, integer=0, continuous=6\n - number of constraints: 0\n   - linear=0\n - parameters: defaults\n"
                }
            ], 
            "source": "# create flow variables for each couple of nodes\n# x(i,j) is the flow going out of node i to node j\nx = {(i,j): tm.continuous_var(name='x_{0}_{1}'.format(i,j)) for i in source for j in target}\n\n# each arc comes with a cost. Minimize all costed flows\ntm.minimize(tm.sum(x[i,j]*costs.get((i,j), 0) for i in source for j in target))\n\ntm.print_information()"
        }, 
        {
            "source": "#### Set up the constraints\n\n- For each source node, the total outbound flow must be smaller than available quantity.\n- For each target node, total inbound flow must be greater thand demand", 
            "cell_type": "markdown", 
            "metadata": {}
        }, 
        {
            "execution_count": 39, 
            "cell_type": "code", 
            "metadata": {}, 
            "outputs": [], 
            "source": "# for each node, total outgoing flow must be smaller than available quantity\nfor i in source:\n    tm.add_constraint(tm.sum(x[i,j] for j in target) <= capacities[i])\n    \n# for each target node, total ingoing flow must be greater thand demand\nfor j in target:\n    tm.add_constraint(tm.sum(x[i,j] for i in source) >= demands[j])"
        }, 
        {
            "source": "#### Express the business objective: minimize total flow cost\n\nEach arc has a unit cost and we want to minimize the total cost. If an arc has no entry in the dictionary, we assume a zero cost (using the `dict.get` method.", 
            "cell_type": "markdown", 
            "metadata": {}
        }, 
        {
            "execution_count": 40, 
            "cell_type": "code", 
            "metadata": {}, 
            "outputs": [], 
            "source": "tm.minimize(tm.sum(x[i,j]*costs.get((i,j), 0)))"
        }, 
        {
            "source": "### Solve with the Decision Optimization solve service\n\nIf url and key are None, the Modeling layer will look for a local runtime, otherwise will use the credentials.\n\nLook at the documentation for a good understanding of the various solving/generation modes.\n\nIf you're using a Community Edition of CPLEX runtimes, depending on the size of the problem, the solve stage may fail and will need a paying subscription or product installation.\n\nIn any case, `Model.solve()` returns a solution object in Python, containing the optimal values of decision variables, if the solve succeeds, or else it returns `None`.", 
            "cell_type": "markdown", 
            "metadata": {}
        }, 
        {
            "execution_count": 41, 
            "cell_type": "code", 
            "metadata": {}, 
            "outputs": [
                {
                    "output_type": "stream", 
                    "name": "stdout", 
                    "text": "solution for: transportation\nobjective: 0.000\nx_1_5 = 15.000\nx_2_3 = 7.000\nx_2_4 = 10.000\n"
                }
            ], 
            "source": "tms = tm.solve(url=url, key=key)\nassert tms\ntms.display()"
        }, 
        {
            "source": "## References\n* [CPLEX Modeling for Python documentation](https://rawgit.com/IBMDecisionOptimization/docplex-doc/master/docs/index.html)\n* [Decision Optimization on Cloud](https://developer.ibm.com/docloud/)\n* Need help with DOcplex or to report a bug? Please go [here](https://developer.ibm.com/answers/smartspace/docloud).\n* Contact us at dofeedback@wwpdl.vnet.ibm.com.", 
            "cell_type": "markdown", 
            "metadata": {}
        }
    ], 
    "metadata": {
        "kernelspec": {
            "display_name": "Python 3.5", 
            "name": "python3", 
            "language": "python"
        }, 
        "language_info": {
            "mimetype": "text/x-python", 
            "nbconvert_exporter": "python", 
            "version": "3.5.4", 
            "name": "python", 
            "file_extension": ".py", 
            "pygments_lexer": "ipython3", 
            "codemirror_mode": {
                "version": 3, 
                "name": "ipython"
            }
        }, 
        "anaconda-cloud": {}
    }, 
    "nbformat": 4
}