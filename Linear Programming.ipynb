{
    "nbformat_minor": 1, 
    "cells": [
        {
            "source": "## Telephone production: a descriptive model\n\nA possible descriptive model of the telephone production problem is as follows:\n- Decision variables:\n    - Number of desk phones produced (DeskProduction)\n    - Number of cellular phones produced (CellProduction)\n- Objective: Maximize profit\n- Constraints:\n    1. The DeskProduction should be greater than or equal to 100.\n    2. The CellProduction should be greater than or equal to 100.\n    3. The assembly time for DeskProduction plus the assembly time for CellProduction should not exceed 400 hours.\n    4. The painting time for DeskProduction plus the painting time for CellProduction should not exceed 490 hours.\n", 
            "cell_type": "markdown", 
            "metadata": {}
        }, 
        {
            "source": "## Use IBM Decision Optimization CPLEX Modeling for Python\n\nLet's use the DOcplex Python library to write the mathematical model in Python.", 
            "cell_type": "markdown", 
            "metadata": {}
        }, 
        {
            "source": "### Step 1: Download the library\n\nFirst install *docplex* if needed.", 
            "cell_type": "markdown", 
            "metadata": {}
        }, 
        {
            "execution_count": null, 
            "cell_type": "code", 
            "metadata": {}, 
            "outputs": [], 
            "source": "import sys\ntry:\n    import docplex.mp\nexcept:\n    if hasattr(sys, 'real_prefix'):\n        #we are in a virtual env.\n        !pip install docplex\n    else:\n        !pip install --user docplex"
        }, 
        {
            "source": "### Step 2: Set up the prescriptive engine\n\n* Subscribe to our private cloud offer or Decision Optimization on Cloud solve service [here](https://developer.ibm.com/docloud) if you do not want to use a local solver.\n* Get the service URL and your personal API key and enter your credentials here if accurate:", 
            "cell_type": "markdown", 
            "metadata": {}
        }, 
        {
            "execution_count": null, 
            "cell_type": "code", 
            "metadata": {
                "collapsed": true
            }, 
            "outputs": [], 
            "source": "url = \"https://api-oaas.docloud.ibmcloud.com/job_manager/rest/v1/\"\nkey = \"api_44f5ba41-b02b-479a-bec2-3ccb0ee6927a\""
        }, 
        {
            "source": "### Step 3: Set up the prescriptive model\n#### Create the model\n\nAll objects of the model belong to one model instance.", 
            "cell_type": "markdown", 
            "metadata": {}
        }, 
        {
            "execution_count": null, 
            "cell_type": "code", 
            "metadata": {
                "collapsed": true
            }, 
            "outputs": [], 
            "source": "# first import the Model class from docplex.mp\nfrom docplex.mp.model import Model\n\n# create one model instance, with a name\nm = Model(name='telephone_production')"
        }, 
        {
            "source": "#### Define the decision variables\n- The continuous variable `desk` represents the production of desk telephones.\n- The continuous variable `cell` represents the production of cell phones.", 
            "cell_type": "markdown", 
            "metadata": {}
        }, 
        {
            "execution_count": null, 
            "cell_type": "code", 
            "metadata": {}, 
            "outputs": [], 
            "source": "# by default, all variables in Docplex have a lower bound of 0 and infinite upper bound\ndesk = m.continuous_var(name='desk')\ncell = m.continuous_var(name='cell')"
        }, 
        {
            "source": "#### Set up the constraints\n- Desk and cel phone must both be greater than 100\n- Assembly time is limited\n- Painting time is limited.", 
            "cell_type": "markdown", 
            "metadata": {}
        }, 
        {
            "execution_count": null, 
            "cell_type": "code", 
            "metadata": {}, 
            "outputs": [], 
            "source": "# write constraints\n# constraint #1: desk production is greater than 100\nm.add_constraint(desk >= 100)\n\n# constraint #2: cell production is greater than 100\nm.add_constraint(cell >= 100)\n\n# constraint #3: assembly time limit\nct_assembly = m.add_constraint( 0.2 * desk + 0.4 * cell <= 400)\n\n# constraint #4: paiting time limit\nct_painting = m.add_constraint( 0.5 * desk + 0.4 * cell <= 490)"
        }, 
        {
            "source": "#### Express the objective\n\nWe want to maximize the expected revenue.", 
            "cell_type": "markdown", 
            "metadata": {}
        }, 
        {
            "execution_count": null, 
            "cell_type": "code", 
            "metadata": {
                "collapsed": true
            }, 
            "outputs": [], 
            "source": "m.maximize(12 * desk + 20 * cell)"
        }, 
        {
            "execution_count": null, 
            "cell_type": "code", 
            "metadata": {}, 
            "outputs": [], 
            "source": "m.print_information()"
        }, 
        {
            "source": "### Solve with the Decision Optimization solve service\n\nIf url and key are None, the Modeling layer will look for a local runtime, otherwise will use the credentials.\n\nLook at the documentation for a good understanding of the various solving/generation modes.\n\nIf you're using a Community Edition of CPLEX runtimes, depending on the size of the problem, the solve stage may fail and will need a paying subscription or product installation.\n\nIn any case, `Model.solve()` returns a solution object in Python, containing the optimal values of decision variables, if the solve succeeds, or else it returns `None`.", 
            "cell_type": "markdown", 
            "metadata": {}
        }, 
        {
            "execution_count": null, 
            "cell_type": "code", 
            "metadata": {}, 
            "outputs": [], 
            "source": "s = m.solve(url=url, key=key)\nm.print_solution()"
        }, 
        {
            "source": "In this case, CPLEX has found an optimal solution at (300, 850). You can check that this point is indeed an extreme point of the feasible region.", 
            "cell_type": "markdown", 
            "metadata": {}
        }, 
        {
            "source": "### Multiple Optimal Solutions\n\nIt is possible that an LP has multiple optimal solutions. \nAt least one optimal solution will be at a vertex.\nBy default, the CPLEX\u00ae Optimizer reports the first optimal solution found. \n", 
            "cell_type": "markdown", 
            "metadata": {}
        }, 
        {
            "source": "#### Infeasible models in DOcplex\n\nCalling `solve()` on an infeasible model returns None. Let's experiment this with DOcplex. First, we take a copy of our model and an extra infeasible constraint which states that desk telephone production must be greater than 1100", 
            "cell_type": "markdown", 
            "metadata": {}
        }, 
        {
            "execution_count": null, 
            "cell_type": "code", 
            "metadata": {}, 
            "outputs": [], 
            "source": "# create a new model, copy of m\nim = m.copy()\n# get the 'desk' variable of the new model from its name\nidesk = im.get_var_by_name('desk')\n# add a new (infeasible) constraint\nim.add_constraint(idesk >= 1100);\n# solve the new proble, we expect a result of None as the model is now infeasible\nims = im.solve(url=url, key=key)\nif ims is None:\n    print('- model is infeasible')"
        }, 
        {
            "source": "### Correcting infeasible models\n\nTo correct an infeasible model, you must use your knowledge of the real-world situation you are modeling.\nIf you know that the model is realizable, you can usually manually construct an example of a feasible solution and use it to determine where your model or data is incorrect. For example, the telephone production manager may input the previous month's production figures as a solution to the model and discover that they violate the erroneously entered bounds of 1100.\n\nDOcplex can help perform infeasibility analysis, which can get very complicated in large models. In this analysis, DOcplex may suggest relaxing one or more constraints. \n", 
            "cell_type": "markdown", 
            "metadata": {}
        }, 
        {
            "source": "#### Implement the soft constraint model using DOcplex\n\nFirst and extra variable for overtime, with an upper bound of 100. This suffices to express the hard limit on overtime.", 
            "cell_type": "markdown", 
            "metadata": {}
        }, 
        {
            "execution_count": null, 
            "cell_type": "code", 
            "metadata": {}, 
            "outputs": [], 
            "source": "overtime = m.continuous_var(name='overtime', ub=40)"
        }, 
        {
            "source": "Modify the assembly time constraint by changing its right-hand side by adding overtime. \n\n*Note*: this operation modifies the model by performing a _side-effect_ on the constraint object. DOcplex allows dynamic edition of model elements.", 
            "cell_type": "markdown", 
            "metadata": {}
        }, 
        {
            "execution_count": null, 
            "cell_type": "code", 
            "metadata": {
                "collapsed": true
            }, 
            "outputs": [], 
            "source": "ct_assembly.rhs = 400 + overtime"
        }, 
        {
            "source": "Last, modify the objective expression to add the penalization term.\nNote that we use the Python decrement operator.", 
            "cell_type": "markdown", 
            "metadata": {}
        }, 
        {
            "execution_count": null, 
            "cell_type": "code", 
            "metadata": {}, 
            "outputs": [], 
            "source": "m.maximize(12*desk + 20 * cell - 2 * overtime)"
        }, 
        {
            "source": "And solve again using DOcplex:", 
            "cell_type": "markdown", 
            "metadata": {}
        }, 
        {
            "execution_count": null, 
            "cell_type": "code", 
            "metadata": {}, 
            "outputs": [], 
            "source": "s2 = m.solve(url=url, key=key)\nm.print_solution()"
        }, 
        {
            "source": "### The Dual simple algorithm\n\n#### The dual of a LP\n\nThe concept of duality is important in linear programming.  Every LP problem has an associated LP problem known as its _dual_. The dual of this associated problem is the original LP problem (known as the primal problem). If the primal problem is a minimization problem, then the dual problem is a maximization problem and vice versa.\n\n#### A primal-dual pair\n\n<p>\n<ul>\n<img src = \"https://ibmdecisionoptimization.github.io/tutorials/jupyter/training/42.png?raw=true\" >\n</ul> \n\n\n*Primal (P)*      \n-------------------- \n\n $max\\ z=\\sum_{i} c_{i}x_{i}$  \n \n*Dual (D)*\n-------------------------------\n $min\\ w= \\sum_{j}b_{j}y_{j}$ \n \n\n- Each constraint in the primal has an associated dual variable, yi.\n- Any feasible solution to D is an upper bound to P, and any feasible solution to P is a lower bound to D.\n- In LP, the optimal objective values of D and P are equivalent, and occurs where these bounds meet.\n- The dual can help solve difficult primal problems by providing a bound that in the best case equals the optimal solution to the primal problem.\n\n#### Dual prices\n\nIn any solution to the dual, the values of the dual variables are known as the dual prices, also called shadow prices.\n\nFor each constraint in the primal problem, its associated dual price indicates how much the dual objective will change with a unit change in the right hand side of the constraint.\n\nThe dual price of a non-binding constraint is zero. That is, changing the right hand side of the constraint will not affect the objective value.\n\nThe dual price of a binding constraint can help you make decisions regarding the constraint.\n\nFor example, the dual price of a binding resource constraint can be used to determine whether more of the resource should be purchased or not.\n\n#### The dual simplex algorithm\n\nThe simplex algorithm works by finding a feasible solution and moving progressively toward optimality. \n\nThe dual simplex algorithm implicitly uses the dual to try and find an optimal solution to the primal as early as it can, and regardless of whether the solution is feasible or not. \n\nIt then moves from one vertex to another, gradually decreasing the infeasibility while maintaining optimality, until an optimal feasible solution to the primal problem is found. \n\nIn CPLEX, the Dual-simplex Optimizer is the first choice for most LP problems.\n", 
            "cell_type": "markdown", 
            "metadata": {}
        }, 
        {
            "source": "#### Getting reduced cost values with DOcplex\n\nDOcplex lets you access reduced costs of variable, after a successful solve. Let's experiment with the two decision variables of our problem:", 
            "cell_type": "markdown", 
            "metadata": {}
        }, 
        {
            "execution_count": null, 
            "cell_type": "code", 
            "metadata": {}, 
            "outputs": [], 
            "source": "print('* desk variable has reduced cost: {0}'.format(desk.reduced_cost))\nprint('* cell variable has reduced cost: {0}'.format(cell.reduced_cost))"
        }, 
        {
            "source": "### Default optimality criteria for CPLEX optimizer\n\nBecause CPLEX Optimizer operates on finite precision computers, it uses an optimality tolerance to test the reduced costs. \n\nThe default optimality tolerance is \u20131e-6, with optimality criteria for the simplest form of an LP then being:\n\n$$\nc \u2014 y^{t}A> \u201310^{-6}\n$$\n\nYou can adjust this optimality tolerance, for example if the algorithm takes very long to converge and has already achieved a solution sufficiently close to optimality.\n", 
            "cell_type": "markdown", 
            "metadata": {}
        }, 
        {
            "source": "### Reduced Costs and multiple optimal solutions\n\nIn the earlier example you saw how one can visualize multiple optimal solutions for an LP with two variables. \nFor larger LPs, the reduced costs can be used to determine whether multiple optimal solutions exist. Multiple optimal solutions exist when one or more non-basic variables with a zero reduced cost exist in an optimal solution (that is, variable values that can change without affecting the objective value). \nIn order to determine whether multiple optimal solutions exist, you can examine the values of the reduced costs with DOcplex. ", 
            "cell_type": "markdown", 
            "metadata": {}
        }, 
        {
            "source": "#### Accessing slack values with DOcplex\n\nAs an example, let's examine the slack values of some constraints in our problem, after we revert the change to soft constrants", 
            "cell_type": "markdown", 
            "metadata": {}
        }, 
        {
            "execution_count": null, 
            "cell_type": "code", 
            "metadata": {}, 
            "outputs": [], 
            "source": "# revert soft constraints\nct_assembly.rhs = 440\ns3 = m.solve(url=url, key=key)\n\n# now get slack value for assembly constraint: expected value is 40\nprint('* slack value for assembly time constraint is: {0}'.format(ct_assembly.slack_value))\n# get slack value for painting time constraint, expected value is 0.\nprint('* slack value for painting time constraint is: {0}'.format(ct_painting.slack_value))"
        }, 
        {
            "source": "#### Setting a LP algorithm with DOcplex\n\nUsers can change the algorithm by editing the `lpmethod` parameter of the model.\nWe won't go into details here, it suffices to know this parameter accepts an integer from 0 to 6, where 0 denotes automatic choice of the algorithm, 1 is for primal simplex, 2 is for dual simplex, and 4 is for barrier...\n\nFor example, choosing the barrier algorithm is done by setting value 4 to this parameter. We access the `parameters` property of the model and from there, assign the `lpmethod` parameter", 
            "cell_type": "markdown", 
            "metadata": {}
        }, 
        {
            "execution_count": null, 
            "cell_type": "code", 
            "metadata": {}, 
            "outputs": [], 
            "source": "m.parameters.lpmethod = 4\nm.solve(url=url, key=key, log_output=True)"
        }
    ], 
    "metadata": {
        "kernelspec": {
            "display_name": "Python 3.5", 
            "name": "python3", 
            "language": "python"
        }, 
        "language_info": {
            "mimetype": "text/x-python", 
            "nbconvert_exporter": "python", 
            "version": "3.5.4", 
            "name": "python", 
            "file_extension": ".py", 
            "pygments_lexer": "ipython3", 
            "codemirror_mode": {
                "version": 3, 
                "name": "ipython"
            }
        }, 
        "anaconda-cloud": {}
    }, 
    "nbformat": 4
}